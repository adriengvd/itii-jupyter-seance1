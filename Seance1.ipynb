{
 "cells": [
  {
   "cell_type": "markdown",
   "metadata": {},
   "source": [
    "Séance 1 jupyter \n",
    "\n",
    "##Exerices Ouvrir un nouveau notebook et l'enregistrer sur GitHub.\n",
    "\n",
    "###Ex 1: Cone Écrire un programme qui, à partir de la saisie d'un rayon et d'une hauteur, calcule le volume d'un cône droit.\n",
    "π X R² X H/3"
   ]
  },
  {
   "cell_type": "code",
   "execution_count": 5,
   "metadata": {},
   "outputs": [],
   "source": [
    "import numpy as np"
   ]
  },
  {
   "cell_type": "code",
   "execution_count": 18,
   "metadata": {},
   "outputs": [
    {
     "name": "stdout",
     "output_type": "stream",
     "text": [
      "Entrez le rayon du cône\n",
      "2\n",
      "Entrez la hauteur du cône\n",
      "3\n",
      "Volume du cône :  12.566370614359172\n"
     ]
    }
   ],
   "source": [
    "print(\"Entrez le rayon du cône\")\n",
    "rayon = input()\n",
    "print(\"Entrez la hauteur du cône\")\n",
    "hauteur = input()\n",
    "volume = np.pi * (pow(int(rayon), 2)) * (int(hauteur)/3)\n",
    "print(\"Volume du cône : \", volume)"
   ]
  },
  {
   "cell_type": "markdown",
   "metadata": {},
   "source": [
    "###Ex 2: Somme des cubes\n",
    "\n",
    "    Pour un entier n fixé, programmer le calcul de la somme Sn=13+23+33+···+n3\n",
    "    Définir un programme qui pour une valeur n calcul la somme Σn=1+2+3+···+n."
   ]
  },
  {
   "cell_type": "code",
   "execution_count": null,
   "metadata": {},
   "outputs": [],
   "source": []
  },
  {
   "cell_type": "markdown",
   "metadata": {},
   "source": [
    "###Ex 3 : manipulation des variables :\n",
    "\n",
    "    Combien y-a-t-il d’occurrences du chiffre1 dans les nombres de1 à 999? Par exemple le chiffre1 apparaît unefois dans 51 mais deux fois dans 131\n",
    "    Écrire une fonction qui calcule l’écriture décimale d’un entier, sans recourir au log\n"
   ]
  },
  {
   "cell_type": "code",
   "execution_count": null,
   "metadata": {},
   "outputs": [],
   "source": []
  },
  {
   "cell_type": "markdown",
   "metadata": {},
   "source": [
    "###Ex 4 : Aproximation de Pi Il est possible de calculer les premières décimales deπpar la méthode de Monte-Carlo, c’est à direavec l’aide du hasard. Soit la figure suivante : Si le carré rouge faite 1 de coté et le disque bleu 1 de rayon, comment pouvez vous determiner une approxiamtion de π ?"
   ]
  }
 ],
 "metadata": {
  "kernelspec": {
   "display_name": "Python 3",
   "language": "python",
   "name": "python3"
  },
  "language_info": {
   "codemirror_mode": {
    "name": "ipython",
    "version": 3
   },
   "file_extension": ".py",
   "mimetype": "text/x-python",
   "name": "python",
   "nbconvert_exporter": "python",
   "pygments_lexer": "ipython3",
   "version": "3.7.6"
  }
 },
 "nbformat": 4,
 "nbformat_minor": 4
}
